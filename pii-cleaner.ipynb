{
 "cells": [
  {
   "cell_type": "markdown",
   "id": "8c21daaa",
   "metadata": {},
   "source": [
    "# Regex Applications"
   ]
  },
  {
   "cell_type": "markdown",
   "id": "3a658394",
   "metadata": {},
   "source": [
    "### José Pablo Kiesling Lange"
   ]
  },
  {
   "cell_type": "code",
   "execution_count": 1,
   "id": "2f921b26",
   "metadata": {},
   "outputs": [],
   "source": [
    "import pandas as pd\n",
    "import re"
   ]
  },
  {
   "cell_type": "code",
   "execution_count": 2,
   "id": "9526b107",
   "metadata": {},
   "outputs": [],
   "source": [
    "dataset = pd.read_csv('pii_dataset.csv')"
   ]
  },
  {
   "cell_type": "code",
   "execution_count": 3,
   "id": "a6329a66",
   "metadata": {},
   "outputs": [
    {
     "data": {
      "text/html": [
       "<div>\n",
       "<style scoped>\n",
       "    .dataframe tbody tr th:only-of-type {\n",
       "        vertical-align: middle;\n",
       "    }\n",
       "\n",
       "    .dataframe tbody tr th {\n",
       "        vertical-align: top;\n",
       "    }\n",
       "\n",
       "    .dataframe thead th {\n",
       "        text-align: right;\n",
       "    }\n",
       "</style>\n",
       "<table border=\"1\" class=\"dataframe\">\n",
       "  <thead>\n",
       "    <tr style=\"text-align: right;\">\n",
       "      <th></th>\n",
       "      <th>Nombre</th>\n",
       "      <th>Correo</th>\n",
       "      <th>Teléfono</th>\n",
       "      <th>Dirección</th>\n",
       "      <th>Identificación</th>\n",
       "      <th>Texto</th>\n",
       "    </tr>\n",
       "  </thead>\n",
       "  <tbody>\n",
       "    <tr>\n",
       "      <th>0</th>\n",
       "      <td>Reyes Pinilla Rosado</td>\n",
       "      <td>woliver@tena.es</td>\n",
       "      <td>+34967 400 699</td>\n",
       "      <td>Calle Rambla de Nieves Dalmau, 126, Ávila</td>\n",
       "      <td>40955969R</td>\n",
       "      <td>Mi nombre es Reyes Pinilla Rosado, puedes cont...</td>\n",
       "    </tr>\n",
       "    <tr>\n",
       "      <th>1</th>\n",
       "      <td>Evita Solsona Escobar</td>\n",
       "      <td>nicolaspou@hernandez.com</td>\n",
       "      <td>991740961</td>\n",
       "      <td>Calle Vial Luís Martín, 131, Las Palmas</td>\n",
       "      <td>34970246V</td>\n",
       "      <td>Mi nombre es Evita Solsona Escobar, puedes con...</td>\n",
       "    </tr>\n",
       "    <tr>\n",
       "      <th>2</th>\n",
       "      <td>Lorenza Mate Bayón</td>\n",
       "      <td>jimena05@iglesias.com</td>\n",
       "      <td>+34 673931008</td>\n",
       "      <td>Alameda Amador Calleja 13 Piso 1 , León, 91297</td>\n",
       "      <td>P5293902</td>\n",
       "      <td>Mi nombre es Lorenza Mate Bayón, puedes contac...</td>\n",
       "    </tr>\n",
       "    <tr>\n",
       "      <th>3</th>\n",
       "      <td>Renato González-Araujo</td>\n",
       "      <td>tomasalondra@higueras.es</td>\n",
       "      <td>916543174</td>\n",
       "      <td>Piso 5, Ávila</td>\n",
       "      <td>Y6585174Z</td>\n",
       "      <td>Mi nombre es Renato González-Araujo, puedes co...</td>\n",
       "    </tr>\n",
       "    <tr>\n",
       "      <th>4</th>\n",
       "      <td>Chus Alejandro Duarte Mayoral</td>\n",
       "      <td>iferrando@peiro.es</td>\n",
       "      <td>+34 650500564</td>\n",
       "      <td>Urbanización Eliseo Naranjo 68 Piso 8 , Ciudad...</td>\n",
       "      <td>P4418638</td>\n",
       "      <td>Mi nombre es Chus Alejandro Duarte Mayoral, pu...</td>\n",
       "    </tr>\n",
       "  </tbody>\n",
       "</table>\n",
       "</div>"
      ],
      "text/plain": [
       "                          Nombre                    Correo        Teléfono  \\\n",
       "0           Reyes Pinilla Rosado           woliver@tena.es  +34967 400 699   \n",
       "1          Evita Solsona Escobar  nicolaspou@hernandez.com       991740961   \n",
       "2             Lorenza Mate Bayón     jimena05@iglesias.com   +34 673931008   \n",
       "3         Renato González-Araujo  tomasalondra@higueras.es       916543174   \n",
       "4  Chus Alejandro Duarte Mayoral        iferrando@peiro.es   +34 650500564   \n",
       "\n",
       "                                           Dirección Identificación  \\\n",
       "0          Calle Rambla de Nieves Dalmau, 126, Ávila      40955969R   \n",
       "1            Calle Vial Luís Martín, 131, Las Palmas      34970246V   \n",
       "2     Alameda Amador Calleja 13 Piso 1 , León, 91297       P5293902   \n",
       "3                                      Piso 5, Ávila      Y6585174Z   \n",
       "4  Urbanización Eliseo Naranjo 68 Piso 8 , Ciudad...       P4418638   \n",
       "\n",
       "                                               Texto  \n",
       "0  Mi nombre es Reyes Pinilla Rosado, puedes cont...  \n",
       "1  Mi nombre es Evita Solsona Escobar, puedes con...  \n",
       "2  Mi nombre es Lorenza Mate Bayón, puedes contac...  \n",
       "3  Mi nombre es Renato González-Araujo, puedes co...  \n",
       "4  Mi nombre es Chus Alejandro Duarte Mayoral, pu...  "
      ]
     },
     "execution_count": 3,
     "metadata": {},
     "output_type": "execute_result"
    }
   ],
   "source": [
    "dataset.head()"
   ]
  },
  {
   "cell_type": "code",
   "execution_count": 4,
   "id": "7ef5eddc",
   "metadata": {},
   "outputs": [],
   "source": [
    "def tokenize(text):\n",
    "    return text.split()"
   ]
  },
  {
   "cell_type": "code",
   "execution_count": 5,
   "id": "7e832035",
   "metadata": {},
   "outputs": [],
   "source": [
    "def token_count(text):\n",
    "    return len(tokenize(text))"
   ]
  },
  {
   "cell_type": "code",
   "execution_count": 6,
   "id": "a3693382",
   "metadata": {},
   "outputs": [],
   "source": [
    "def get_max_token_count_by_column(column_name):\n",
    "    return dataset[column_name].astype(str).apply(token_count).max()"
   ]
  },
  {
   "cell_type": "code",
   "execution_count": 7,
   "id": "8e7cd9f7",
   "metadata": {},
   "outputs": [],
   "source": [
    "def get_min_token_count_by_column(column_name):\n",
    "    return dataset[column_name].astype(str).apply(token_count).min()"
   ]
  },
  {
   "cell_type": "markdown",
   "id": "c8c39d74",
   "metadata": {},
   "source": [
    "## Definición de Regex"
   ]
  },
  {
   "cell_type": "code",
   "execution_count": 8,
   "id": "b1ade428",
   "metadata": {},
   "outputs": [],
   "source": [
    "ALPHABET_RE = re.compile(r\"[A-Za-zÁÉÍÓÚÜÑáéíóúüñ]\")"
   ]
  },
  {
   "cell_type": "markdown",
   "id": "7ca673b2",
   "metadata": {},
   "source": [
    "### Nombre"
   ]
  },
  {
   "cell_type": "markdown",
   "id": "54f0d151",
   "metadata": {},
   "source": [
    "En este caso, se puede apreciar que los nombres tienen como mínimo 2 tokens y máximo 4 tokens. Además, se pudo observar que los nombres contienen caracteres no alfabéticos (` `, `-`)."
   ]
  },
  {
   "cell_type": "code",
   "execution_count": 9,
   "id": "286c04da",
   "metadata": {},
   "outputs": [
    {
     "name": "stdout",
     "output_type": "stream",
     "text": [
      "Mínimo: 2, Máximo: 4\n"
     ]
    }
   ],
   "source": [
    "min_words_name = get_min_token_count_by_column(\"Nombre\")\n",
    "max_words_name = get_max_token_count_by_column(\"Nombre\")   \n",
    "\n",
    "print(f\"Mínimo: {min_words_name}, Máximo: {max_words_name}\")\n"
   ]
  },
  {
   "cell_type": "code",
   "execution_count": 10,
   "id": "d47b4e36",
   "metadata": {},
   "outputs": [
    {
     "name": "stdout",
     "output_type": "stream",
     "text": [
      "Caracteres no alfabéticos en nombres: {'-', ' '}\n"
     ]
    }
   ],
   "source": [
    "names_chars = set(\"\".join(dataset[\"Nombre\"].astype(str)))\n",
    "non_alpha_chars = {c for c in names_chars if not ALPHABET_RE.fullmatch(c)}\n",
    "\n",
    "print(\"Caracteres no alfabéticos en nombres:\", non_alpha_chars)"
   ]
  },
  {
   "cell_type": "markdown",
   "id": "ed07e389",
   "metadata": {},
   "source": [
    "Por lo que el siguiente patrón de expresiones regulares fue diseñado para detectar nombres propios en español, incluso cuando ya han sido ofuscados e identificados como un token de **Nombre** con la longitud de tokens explicada anteriormente. También maneja correctamente nombres compuestos separados por guiones o espacios. Además, permite partículas en minúscula opcionales (como \"de\", \"la\", etc.) y otros nombres o placeholders que pueden aparecer en los nombres."
   ]
  },
  {
   "cell_type": "code",
   "execution_count": 11,
   "id": "520df21d",
   "metadata": {},
   "outputs": [],
   "source": [
    "NAME_RE = re.compile(r\"\"\"\n",
    "(?P<name>\n",
    "    (?:\n",
    "        <NOMBRE:\\d+>                              \n",
    "        |\n",
    "        [A-ZÁÉÍÓÚÜÑ][a-záéíóúüñ']+                 # Nombre\n",
    "    )\n",
    "    (?:\n",
    "        (?:\\s+|-)                                  # Separador: espacio o guion\n",
    "        (?:\n",
    "            [a-záéíóúüñ']{1,3}\\s+                  # partícula en minúscula opcional (como \"de\", \"la\", etc.)\n",
    "        )?\n",
    "        (?:\n",
    "            <NOMBRE:\\d+>                          \n",
    "            |\n",
    "            [A-ZÁÉÍÓÚÜÑ][a-záéíóúüñ]+             # Nombre o apellido\n",
    "        )\n",
    "    ){1,3}                                         # de 1 a 3 nombres extras\n",
    ")\n",
    "\"\"\", re.VERBOSE)\n"
   ]
  },
  {
   "cell_type": "markdown",
   "id": "3a5b3eaa",
   "metadata": {},
   "source": [
    "### Correo"
   ]
  },
  {
   "cell_type": "markdown",
   "id": "0453a19e",
   "metadata": {},
   "source": [
    "Los correos electrónicos tienen un patrón bastante estándar, que incluye un nombre de usuario seguido por el símbolo `@` y un dominio."
   ]
  },
  {
   "cell_type": "code",
   "execution_count": 12,
   "id": "4aa1b786",
   "metadata": {},
   "outputs": [],
   "source": [
    "EMAIL_RE   = re.compile(r\"\"\"\n",
    "    (?P<email>\n",
    "        [a-zA-Z0-9-]+                   # Nombre de usuario\n",
    "        @\n",
    "        [a-zA-Z0-9-]+                   # Dominio\n",
    "        \\.\n",
    "        [a-zA-Z]{2,}            \n",
    "    )\n",
    "\"\"\", re.VERBOSE)"
   ]
  },
  {
   "cell_type": "markdown",
   "id": "707e545b",
   "metadata": {},
   "source": [
    "### Teléfono"
   ]
  },
  {
   "cell_type": "markdown",
   "id": "f00b3397",
   "metadata": {},
   "source": [
    "Como se puede apreciar, en los telefonos hay minimo 1 token y máximo 5 tokens, de los cuales, su longitud mínima es de 2 caracteres y la máxima de 12 caracteres. Además, pueden tener un código de país opcional el cual puede iniciar por `+` o `(`"
   ]
  },
  {
   "cell_type": "code",
   "execution_count": 13,
   "id": "77308cdb",
   "metadata": {},
   "outputs": [
    {
     "name": "stdout",
     "output_type": "stream",
     "text": [
      "Primer caracter en los teléfonos: {'9', '(', '+'}\n"
     ]
    }
   ],
   "source": [
    "first_char_phone = set(dataset[\"Teléfono\"].astype(str).str[0])\n",
    "print(\"Primer caracter en los teléfonos:\", first_char_phone)"
   ]
  },
  {
   "cell_type": "code",
   "execution_count": 14,
   "id": "771d29fb",
   "metadata": {},
   "outputs": [
    {
     "name": "stdout",
     "output_type": "stream",
     "text": [
      "Mínimo: 1, Máximo: 5\n"
     ]
    }
   ],
   "source": [
    "min_words_phone = get_min_token_count_by_column(\"Teléfono\")\n",
    "max_words_phone = get_max_token_count_by_column(\"Teléfono\")   \n",
    "\n",
    "print(f\"Mínimo: {min_words_phone}, Máximo: {max_words_phone}\")"
   ]
  },
  {
   "cell_type": "code",
   "execution_count": 15,
   "id": "bc4e0fcb",
   "metadata": {},
   "outputs": [
    {
     "name": "stdout",
     "output_type": "stream",
     "text": [
      "Longitud mínima de token en Teléfono: 2, Longitud máxima: 12\n"
     ]
    }
   ],
   "source": [
    "tokens_len_phone = dataset[\"Teléfono\"].astype(str).str.split().explode().str.len()\n",
    "\n",
    "min_len_token_phone = tokens_len_phone.min()\n",
    "max_len_token_phone = tokens_len_phone.max()\n",
    "\n",
    "print(f\"Longitud mínima de token en Teléfono: {min_len_token_phone}, Longitud máxima: {max_len_token_phone}\")"
   ]
  },
  {
   "cell_type": "code",
   "execution_count": 16,
   "id": "1a8eccdf",
   "metadata": {},
   "outputs": [],
   "source": [
    "PHONE_RE = re.compile(r\"\"\"\n",
    "(?P<phone>\n",
    "    (?:\\+?\\(?\\d{1,3}\\)?[\\s-]*)?          # Código de país\n",
    "    \\d{2,12}                             # Primer bloque de dígitos\n",
    "    (?:[\\s-]?\\d{2,12}){0,4}              # Bloques extras\n",
    ")\n",
    "\"\"\", re.VERBOSE)"
   ]
  },
  {
   "cell_type": "markdown",
   "id": "e70adc14",
   "metadata": {},
   "source": [
    "### Dirección"
   ]
  },
  {
   "cell_type": "markdown",
   "id": "ed965c22",
   "metadata": {},
   "source": [
    "La estructura de las direcciones es más compleja, ya que pueden contener múltiples palabras, números de portal y otros elementos. En este caso, se ha definido un patrón que permite capturar direcciones con una longitud mínima de 2 tokens y máxima de 12 tokens, con una longitud mínima de token de 3 caracteres y una máxima de 10 caracteres. Además, se permite la presencia de comas y números de portal opcionales.\n",
    "\n",
    "Además, la estructura tiene una primera palabra que debe comenzar con una letra mayúscula, y las siguientes palabras pueden ser en minúscula o mayúscula. También se permite la presencia de números de portal y otros elementos como \"Piso 3\", \"Apto 4\", etc."
   ]
  },
  {
   "cell_type": "code",
   "execution_count": 17,
   "id": "d31770a5",
   "metadata": {},
   "outputs": [
    {
     "name": "stdout",
     "output_type": "stream",
     "text": [
      "Mínimo: 3, Máximo: 10\n"
     ]
    }
   ],
   "source": [
    "min_words_address = get_min_token_count_by_column(\"Dirección\")\n",
    "max_words_address = get_max_token_count_by_column(\"Dirección\")   \n",
    "\n",
    "print(f\"Mínimo: {min_words_address}, Máximo: {max_words_address}\")"
   ]
  },
  {
   "cell_type": "code",
   "execution_count": 18,
   "id": "37881b41",
   "metadata": {},
   "outputs": [
    {
     "name": "stdout",
     "output_type": "stream",
     "text": [
      "Longitud mínima de token en Direccion: 2, Longitud máxima: 12\n"
     ]
    }
   ],
   "source": [
    "tokens_len_address = dataset[\"Teléfono\"].astype(str).str.split().explode().str.len()\n",
    "\n",
    "min_len_token_address = tokens_len_address.min()\n",
    "max_len_token_address = tokens_len_address.max()\n",
    "\n",
    "print(f\"Longitud mínima de token en Direccion: {min_len_token_address}, Longitud máxima: {max_len_token_address}\")"
   ]
  },
  {
   "cell_type": "code",
   "execution_count": 19,
   "id": "83ea4fb5",
   "metadata": {},
   "outputs": [],
   "source": [
    "ADDRESS_RE = re.compile(r\"\"\"\n",
    "(?P<address>\n",
    "    (?:[A-ZÁÉÍÓÚÜÑ]             \n",
    "        [\\wÁÉÍÓÚÜÑáéíóúüñ'’\\-.]*  \n",
    "     | [a-záéíóúüñ]{1,3}        \n",
    "    )\n",
    "    (?:                      \n",
    "        \\s+\n",
    "        (?:[A-ZÁÉÍÓÚÜÑ][\\wÁÉÍÓÚÜÑáéíóúüñ'’\\-.]*|[a-záéíóúüñ]{1,3})\n",
    "    ){1,11}\n",
    "\n",
    "    \\s*,?\\s*                    \n",
    "    \\d{1,4}[A-Za-zºª°]*        \n",
    "\n",
    "    (?:                          \n",
    "        \\s+[A-Za-zÁÉÍÓÚÜÑáéíóúüñ'’\\-.]+\\s+\\d{1,4}\n",
    "    )*\n",
    "\n",
    "    \\s*,\\s*                     \n",
    "    [A-ZÁÉÍÓÚÜÑ]                \n",
    "    [^,\\.]+                      \n",
    "\n",
    "    (?:\\s*,\\s*\\d{5})?          \n",
    "\n",
    "    \\.?                         \n",
    ")\n",
    "(?=\\s|$)                       \n",
    "\"\"\", re.VERBOSE)"
   ]
  },
  {
   "cell_type": "markdown",
   "id": "89ad814e",
   "metadata": {},
   "source": [
    "### Identificador"
   ]
  },
  {
   "cell_type": "markdown",
   "id": "a5e729e9",
   "metadata": {},
   "source": [
    "Finalmente, el identificador es un número de 8 a 9 caracteres, que pueden empezar yo terminar con una letra, pero siempre debe contener números. Este patrón es bastante específico y se ha diseñado para capturar identificadores que cumplen con estas características."
   ]
  },
  {
   "cell_type": "code",
   "execution_count": 20,
   "id": "28c00c7a",
   "metadata": {},
   "outputs": [
    {
     "name": "stdout",
     "output_type": "stream",
     "text": [
      "Mínimo: 8, Máximo: 9\n"
     ]
    }
   ],
   "source": [
    "len_id = dataset[\"Identificación\"].astype(str).str.len()\n",
    "\n",
    "min_len_id = len_id.min()\n",
    "max_len_id = len_id.max()\n",
    "\n",
    "print(f\"Mínimo: {min_len_id}, Máximo: {max_len_id}\")"
   ]
  },
  {
   "cell_type": "code",
   "execution_count": 21,
   "id": "3263490a",
   "metadata": {},
   "outputs": [],
   "source": [
    "ID_RE = re.compile(r\"\"\"\n",
    "    (?P<id>\n",
    "        [A-Z]*\n",
    "        \\d{7,9}\n",
    "        [A-Z]*\n",
    "    )\n",
    "\"\"\", re.VERBOSE)"
   ]
  },
  {
   "cell_type": "code",
   "execution_count": 22,
   "id": "7e2ddc1d",
   "metadata": {},
   "outputs": [],
   "source": [
    "PATTERNS = [\n",
    "    (\"NOMBRE\", NAME_RE),\n",
    "    (\"CORREO\", EMAIL_RE),\n",
    "    (\"TELEFONO\", PHONE_RE),\n",
    "    (\"DIRECCION\", ADDRESS_RE),\n",
    "    (\"IDENTIFICADOR\", ID_RE)\n",
    "]"
   ]
  },
  {
   "cell_type": "code",
   "execution_count": 23,
   "id": "78a93e4a",
   "metadata": {},
   "outputs": [],
   "source": [
    "def redact(text, placeholder_fmt=\"<{label}>\"):\n",
    "    rep_map = {} \n",
    "    \n",
    "    for label, pattern in PATTERNS:\n",
    "        for m in pattern.finditer(text):\n",
    "            original = m.group()\n",
    "            if original not in rep_map:\n",
    "                rep_map[original] = placeholder_fmt.format(\n",
    "                    label=label)\n",
    "\n",
    "    for original in sorted(rep_map, key=len, reverse=True):\n",
    "        text = text.replace(original, rep_map[original])\n",
    "        \n",
    "    return text"
   ]
  },
  {
   "cell_type": "code",
   "execution_count": 24,
   "id": "95ff5336",
   "metadata": {},
   "outputs": [],
   "source": [
    "dataset[\"Texto_redactado\"] = dataset[\"Texto\"].apply(redact)\n",
    "\n",
    "#guardar el dataset con las columnas originales y la redactada\n",
    "direct_cols = [\"Nombre\", \"Correo\", \"Teléfono\", \"Dirección\", \"Identificación\", \"Texto\"]\n",
    "df_redacted = dataset.drop(columns=direct_cols)\n",
    "df_redacted.to_csv(\"pii_dataset_redacted.csv\", index=False)"
   ]
  },
  {
   "cell_type": "markdown",
   "id": "962b60f9",
   "metadata": {},
   "source": [
    "### Discusión\n",
    "El enfoque que se tuvo desde el inicio fue cuantificar las características reales del conjunto de datos-número de tokens, longitudes mínimas y máximas y caracteres atípicos en cada feature. Esto permitió ajustar con precisión los cuantificadores de cada patrón y así definir las regex. Dichos regex, como se puede ver, son bastante precisos y permiten capturar la mayoría de los casos sin generar falsos positivos.\n",
    "\n",
    "No obstante, como parte del análisis, se encontraron las limitaciones de depender de regex. La primera es las posibles ambigüedades (como por ejemplo “Ávila” puede ser apellido o ciudad). El segundo es la escalabilidad, ya que la llegada de nuevos formatos de datos obligaría a reescribir reglas manualmente. Por último, también podrían aparecer falsos negativos con abreviaturas inusuales (“C/”, “Avd.”) y falsos positivos cuando secuencias numéricas largas se parezcan a teléfonos. \n",
    "\n",
    "Es por ello, que una posible solución sería combinar estas regex como filtrado inicial con algún modelo que esté entrenado para estos casos de PII. Además, como vimos en clase, las NERs pueden ser una herramienta poderosa para identificar entidades nombradas y así complementar el filtrado de regex en los casos que expliqué anteriormente.\n",
    "\n",
    "Ahora bien en el tema ético, la ofuscación correcta de PII no es solo una buena práctica técnica, sino que también es una obligación legal. Si no se hace de forma correcta puede llevar a sanciones económicas o incluso, un daño reputacional. En este caso, podría ser dañino para el hospital, además de poner en riesgo a los pacientes frente a fraudes o discriminación. \n",
    "\n",
    "En conclusión, el proyecto demuestra que un análisis exploratorio riguroso y expresiones regulares cuidadosamente afinadas pueden brindar una anonimización efectiva dentro de los límites de la práctica solicitada. Sin embargo, para entornos de producción donde la escala y la variabilidad de los datos crecen, resulta aconsejable evolucionar hacia herramientas híbridas que mezclen regex, aprendizaje automático y validaciones especializadas, logrando así un equilibrio sostenible entre precisión, mantenimiento y escalabilidad."
   ]
  }
 ],
 "metadata": {
  "kernelspec": {
   "display_name": ".venv",
   "language": "python",
   "name": "python3"
  },
  "language_info": {
   "codemirror_mode": {
    "name": "ipython",
    "version": 3
   },
   "file_extension": ".py",
   "mimetype": "text/x-python",
   "name": "python",
   "nbconvert_exporter": "python",
   "pygments_lexer": "ipython3",
   "version": "3.9.0"
  }
 },
 "nbformat": 4,
 "nbformat_minor": 5
}
